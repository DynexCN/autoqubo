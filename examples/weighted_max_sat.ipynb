{
 "cells": [
  {
   "cell_type": "markdown",
   "metadata": {},
   "source": [
    "# 加权Max-Sat示例"
   ]
  },
  {
   "cell_type": "markdown",
   "metadata": {},
   "source": [
    "\n",
    "##问题语句\n",
    "最大满意问题（MAX-SAT）是确定最大值的问题\n",
    "符合性正常的布尔公式的条款的数量，因为它们可能是\n",
    "威胁通过分配的方式将其价值变为形式的变量。\n",
    "一个可以定义一个加权版本的MAX-SAT作为一个折叠：给定一个符合性正常\n",
    "在某些条款中，以权重表示形式，并为其变量找到trut值。\n",
    "它最大限度地提高了讽刺性条款的组合权重。\n",
    "MAX-SAT问题是加权MAX-SAT的所有权重1。\n",
    "\n",
    "##整数线性规划公式\n",
    "MAX-SAT可以被挤出使用二进制线性程序。\n",
    "修正了一个符合性正常形式的公式$Fs$$x_1，x_2，…，x_n$，\n",
    "美元的价值。\n",
    "对于$C$，$S$+$和$S$S$和$S$\n",
    "它不会被否定为$c$，并且它被否定为$c$，\n",
    "措辞的变量$y_x$将与措辞的变量$F$对应，\n",
    "将变量$z_c$与索赔相关联。\n",
    "如下：\n",
    "\n",
    "maximize $\\sum_{c \\in C} w_c\\cdot z_c$\n",
    "(最大限度地提高讽刺性条款的重量)\n",
    "\n",
    "subject to\n",
    "\n",
    "$ z_c\\leq\\sum_{x\\in S_c^+} y_x+\\sum_{x\\in S_c^-} (1-y_x)$\n",
    "for all $c\\in C$ (子句为真，当且仅当它有一个为真的非否定变量或一个为假的否定变量)\n",
    "\n",
    "$z_c \\in \\{0,1\\}$\n",
    "for all $c\\in C$\n",
    "(每个条款要么满足，要么不满足。)\n",
    "\n",
    "$y_x \\in \\{0,1\\}$\n",
    "for all $x\\in F$\n",
    "(每个变量不是真就是假。)\n",
    "\n",
    "##粒子问题实例（加权MAX-SAT）\n",
    "\n",
    "$\\phi = ({x_1} \\vee \\overline{x_2} : 3) \\wedge (x_3 : 1) \\wedge (\\overline{x_3} \\vee x_2 : 4)) $"
   ]
  },
  {
   "cell_type": "markdown",
   "metadata": {},
   "source": [
    "## 使用普通Python制定等效目标函数"
   ]
  },
  {
   "cell_type": "code",
   "execution_count": null,
   "outputs": [],
   "source": [
    "\n"
   ],
   "metadata": {
    "collapsed": false
   }
  },
  {
   "cell_type": "code",
   "execution_count": 6,
   "metadata": {
    "pycharm": {
     "name": "#%%\n"
    }
   },
   "outputs": [],
   "source": [
    "def f(x):\n",
    "    x1, x2, x3 = x\n",
    "    val = 0\n",
    "\n",
    "    # clause 1\n",
    "    if x1 or not x2:\n",
    "        val += 3\n",
    "    # clause 2\n",
    "    if x3:\n",
    "        val += 1\n",
    "    # clause 3\n",
    "    if not x3 or x2:\n",
    "        val += 4\n",
    "\n",
    "    return val"
   ]
  },
  {
   "cell_type": "markdown",
   "metadata": {},
   "source": [
    "## 在本地环境中安装软件包（需要colab）"
   ]
  },
  {
   "cell_type": "code",
   "execution_count": 7,
   "metadata": {
    "pycharm": {
     "name": "#%%\n"
    },
    "scrolled": false
   },
   "outputs": [
    {
     "name": "stderr",
     "output_type": "stream",
     "text": [
      "fatal: destination path 'autoqubo' already exists and is not an empty directory.\n"
     ]
    },
    {
     "name": "stdout",
     "output_type": "stream",
     "text": [
      "running install\n",
      "running bdist_egg\n",
      "running egg_info\n",
      "writing autoqubo.egg-info\\PKG-INFO\n",
      "writing dependency_links to autoqubo.egg-info\\dependency_links.txt\n",
      "writing requirements to autoqubo.egg-info\\requires.txt\n",
      "writing top-level names to autoqubo.egg-info\\top_level.txt\n",
      "reading manifest file 'autoqubo.egg-info\\SOURCES.txt'\n",
      "adding license file 'LICENSE'\n",
      "writing manifest file 'autoqubo.egg-info\\SOURCES.txt'\n",
      "installing library code to build\\bdist.win-amd64\\egg\n",
      "running install_lib\n",
      "running build_py\n",
      "creating build\\bdist.win-amd64\\egg\n",
      "creating build\\bdist.win-amd64\\egg\\autoqubo\n",
      "copying build\\lib\\autoqubo\\__init__.py -> build\\bdist.win-amd64\\egg\\autoqubo\n",
      "copying build\\lib\\autoqubo\\_package_info.py -> build\\bdist.win-amd64\\egg\\autoqubo\n",
      "copying build\\lib\\autoqubo\\binarization.py -> build\\bdist.win-amd64\\egg\\autoqubo\n",
      "copying build\\lib\\autoqubo\\penalty_weights.py -> build\\bdist.win-amd64\\egg\\autoqubo\n",
      "copying build\\lib\\autoqubo\\sampling_compiler.py -> build\\bdist.win-amd64\\egg\\autoqubo\n",
      "copying build\\lib\\autoqubo\\search_space.py -> build\\bdist.win-amd64\\egg\\autoqubo\n",
      "copying build\\lib\\autoqubo\\symbolic.py -> build\\bdist.win-amd64\\egg\\autoqubo\n",
      "copying build\\lib\\autoqubo\\utils.py -> build\\bdist.win-amd64\\egg\\autoqubo\n",
      "byte-compiling build\\bdist.win-amd64\\egg\\autoqubo\\__init__.py to __init__.cpython-37.pyc\n",
      "byte-compiling build\\bdist.win-amd64\\egg\\autoqubo\\_package_info.py to _package_info.cpython-37.pyc\n",
      "byte-compiling build\\bdist.win-amd64\\egg\\autoqubo\\binarization.py to binarization.cpython-37.pyc\n",
      "byte-compiling build\\bdist.win-amd64\\egg\\autoqubo\\penalty_weights.py to penalty_weights.cpython-37.pyc\n",
      "byte-compiling build\\bdist.win-amd64\\egg\\autoqubo\\sampling_compiler.py to sampling_compiler.cpython-37.pyc\n",
      "byte-compiling build\\bdist.win-amd64\\egg\\autoqubo\\search_space.py to search_space.cpython-37.pyc\n",
      "byte-compiling build\\bdist.win-amd64\\egg\\autoqubo\\symbolic.py to symbolic.cpython-37.pyc\n",
      "byte-compiling build\\bdist.win-amd64\\egg\\autoqubo\\utils.py to utils.cpython-37.pyc\n",
      "creating build\\bdist.win-amd64\\egg\\EGG-INFO\n",
      "copying autoqubo.egg-info\\PKG-INFO -> build\\bdist.win-amd64\\egg\\EGG-INFO\n",
      "copying autoqubo.egg-info\\SOURCES.txt -> build\\bdist.win-amd64\\egg\\EGG-INFO\n",
      "copying autoqubo.egg-info\\dependency_links.txt -> build\\bdist.win-amd64\\egg\\EGG-INFO\n",
      "copying autoqubo.egg-info\\requires.txt -> build\\bdist.win-amd64\\egg\\EGG-INFO\n",
      "copying autoqubo.egg-info\\top_level.txt -> build\\bdist.win-amd64\\egg\\EGG-INFO\n",
      "creating 'dist\\autoqubo-0.0.1-py3.7.egg' and adding 'build\\bdist.win-amd64\\egg' to it\n",
      "removing 'build\\bdist.win-amd64\\egg' (and everything under it)\n",
      "Processing autoqubo-0.0.1-py3.7.egg\n",
      "Removing c:\\users\\justi\\miniconda3\\envs\\autoqubo\\lib\\site-packages\\autoqubo-0.0.1-py3.7.egg\n"
     ]
    },
    {
     "name": "stderr",
     "output_type": "stream",
     "text": [
      "c:\\Users\\justi\\miniconda3\\envs\\autoqubo\\lib\\site-packages\\setuptools\\command\\install.py:37: SetuptoolsDeprecationWarning: setup.py install is deprecated. Use build and pip and other standards-based tools.\n",
      "  setuptools.SetuptoolsDeprecationWarning,\n",
      "c:\\Users\\justi\\miniconda3\\envs\\autoqubo\\lib\\site-packages\\setuptools\\command\\easy_install.py:147: EasyInstallDeprecationWarning: easy_install command is deprecated. Use build and pip and other standards-based tools.\n",
      "  EasyInstallDeprecationWarning,\n",
      "zip_safe flag not set; analyzing archive contents...\n",
      "error: [WinError 32] The process cannot access the file because it is being used by another process: 'c:\\\\users\\\\justi\\\\miniconda3\\\\envs\\\\autoqubo\\\\lib\\\\site-packages\\\\autoqubo-0.0.1-py3.7.egg'\n"
     ]
    },
    {
     "name": "stdout",
     "output_type": "stream",
     "text": [
      "Requirement already satisfied: numpy<2.0.0,>=1.14.0 in c:\\users\\justi\\miniconda3\\envs\\autoqubo\\lib\\site-packages (from -r requirements.txt (line 1)) (1.21.6)\n",
      "Requirement already satisfied: dimod==0.10.17 in c:\\users\\justi\\miniconda3\\envs\\autoqubo\\lib\\site-packages (from -r requirements.txt (line 2)) (0.10.17)\n",
      "Requirement already satisfied: dwave-qbsolv==0.3.4 in c:\\users\\justi\\miniconda3\\envs\\autoqubo\\lib\\site-packages (from -r requirements.txt (line 3)) (0.3.4)\n",
      "Requirement already satisfied: pyparsing<3.0.0,>=2.4.7 in c:\\users\\justi\\miniconda3\\envs\\autoqubo\\lib\\site-packages (from dimod==0.10.17->-r requirements.txt (line 2)) (2.4.7)\n"
     ]
    }
   ],
   "source": [
    "!git clone https://github.com/FujitsuResearch/autoqubo\n",
    "!cd autoqubo && python setup.py install\n",
    "!cd autoqubo && pip install -r requirements.txt\n"
   ]
  },
  {
   "cell_type": "markdown",
   "metadata": {},
   "source": [
    "## 使用AutoQUBO转换为QUBO"
   ]
  },
  {
   "cell_type": "code",
   "execution_count": 8,
   "metadata": {},
   "outputs": [],
   "source": [
    "# Import everything\n",
    "from autoqubo import SamplingCompiler, Utils\n",
    "from itertools import product\n",
    "\n",
    "# Create QUBO using the sampling compiler\n",
    "# The solution is represetned by 3 bits\n",
    "qubo, offset = SamplingCompiler.generate_qubo_matrix(fitness_function=f, use_multiprocessing=False, input_size=3)"
   ]
  },
  {
   "cell_type": "markdown",
   "metadata": {},
   "source": [
    "## 打印Qubo矩阵和系数"
   ]
  },
  {
   "cell_type": "code",
   "execution_count": 9,
   "metadata": {
    "pycharm": {
     "name": "#%%\n"
    }
   },
   "outputs": [
    {
     "name": "stdout",
     "output_type": "stream",
     "text": [
      "QUBO matrix:\n",
      "[[ 0.  3.  0.]\n",
      " [ 0. -3.  4.]\n",
      " [ 0.  0. -3.]]\n",
      "QUBO coefficients\n",
      "x[] = 7\n",
      "x[1, 2] = 3.0\n",
      "x[2] = -3.0\n",
      "x[2, 3] = 4.0\n",
      "x[3] = -3.0\n"
     ]
    }
   ],
   "source": [
    "print(\"QUBO matrix:\")\n",
    "print(qubo)\n",
    "\n",
    "print(\"QUBO coefficients\")\n",
    "print(f\"x[] = {offset}\")\n",
    "for key, coefficient in Utils.get_matrix_dict_repr(qubo).items():\n",
    "    i, j = key\n",
    "    if i == j:\n",
    "        print(f\"x[{i+1}] = {coefficient}\")\n",
    "    else:\n",
    "        print(f\"x[{i+1}, {j+1}] = {coefficient}\")\n"
   ]
  },
  {
   "cell_type": "markdown",
   "metadata": {},
   "source": [
    "## 使用Qubo解算器最小化"
   ]
  },
  {
   "cell_type": "code",
   "execution_count": 10,
   "metadata": {
    "pycharm": {
     "name": "#%%\n"
    }
   },
   "outputs": [
    {
     "name": "stdout",
     "output_type": "stream",
     "text": [
      "x=[1, 0, 1], energy=4.0\n",
      "x=[0, 0, 1], energy=4.0\n",
      "x=[0, 1, 0], energy=4.0\n"
     ]
    }
   ],
   "source": [
    "solutions, energy_values = Utils.solve(qubo, offset)\n",
    "for s, e in zip(solutions, energy_values):\n",
    "    print(f\"x={s}, energy={e}\")"
   ]
  }
 ],
 "metadata": {
  "kernelspec": {
   "display_name": "autoqubo",
   "language": "python",
   "name": "autoqubo"
  },
  "language_info": {
   "codemirror_mode": {
    "name": "ipython",
    "version": 3
   },
   "file_extension": ".py",
   "mimetype": "text/x-python",
   "name": "python",
   "nbconvert_exporter": "python",
   "pygments_lexer": "ipython3",
   "version": "3.7.16"
  }
 },
 "nbformat": 4,
 "nbformat_minor": 1
}
