{
 "cells": [
  {
   "attachments": {},
   "cell_type": "markdown",
   "metadata": {},
   "source": [
    "# Max-Clique符号采样的代码示例"
   ]
  },
  {
   "cell_type": "code",
   "execution_count": null,
   "metadata": {},
   "outputs": [],
   "source": [
    "# 确保此Jupyter内核中也安装了AutoQubo\n",
    "%cd ../..\n",
    "%pip install -e .\n",
    "%cd examples/max_clique"
   ]
  },
  {
   "cell_type": "code",
   "execution_count": null,
   "metadata": {},
   "outputs": [],
   "source": [
    "import pandas as pd\n",
    "import numpy as np\n",
    "from itertools import combinations\n",
    "from pathlib import Path\n",
    "\n",
    "from autoqubo import SamplingCompiler"
   ]
  },
  {
   "attachments": {},
   "cell_type": "markdown",
   "metadata": {},
   "source": [
    "### 解析Max-clique实例的辅助函数\n"
   ]
  },
  {
   "cell_type": "code",
   "execution_count": null,
   "metadata": {},
   "outputs": [],
   "source": [
    "# make DIMACS files accessible\n",
    "DATASET_PATH = \"..//data/max_clique_dimacs_subset/\"\n",
    "\n",
    "\n",
    "instances_200 = [\n",
    "    \"c-fat200-1.clq\",\n",
    "    \"c-fat200-2.clq\",\n",
    "    \"brock200_1.clq\",\n",
    "    \"brock200_2.clq\",\n",
    "    \"brock200_3.clq\",\n",
    "    \"san200_0.7_1.clq\",\n",
    "    \"san200_0.7_2.clq\",\n",
    "    \"san200_0.9_1.clq\",\n",
    "    \"san200_0.9_2.clq\",\n",
    "    \"san200_0.9_3.clq\",\n",
    "]\n",
    "BATCH_SMALL = [Path().joinpath(DATASET_PATH + fn) for fn in instances_200]\n",
    "\n",
    "\n",
    "def read_graph(file_path):\n",
    "    \"\"\"reads edge set from DIMACS graph\n",
    "    Args:\n",
    "        file_path(os.PathLike): path to dimacs formatted textfile\n",
    "    Returns:\n",
    "        edges(np.ndarray): adjacency matrix,  edges[v1, v2]==1 iff v1, v2 are adjacent\n",
    "        vertices_num(int): number of vertices\n",
    "    \"\"\"\n",
    "    last_vertex_has_edge = False\n",
    "    with open(file_path, encoding=\"utf-8\") as graph_file:\n",
    "        for i, line in enumerate(graph_file):\n",
    "            if i == 0:\n",
    "                instance_name = str(Path(file_path).stem)\n",
    "                print(f\"Reading graph: {instance_name}\")\n",
    "            elif line.startswith(\"p\"):\n",
    "                _, _, vertices_num, edges_num = line.split()\n",
    "                vertices_num = int(vertices_num)\n",
    "                print(f\"Vertices: {vertices_num}, Edges: {edges_num}\")\n",
    "                edges = np.zeros(shape=(vertices_num, vertices_num))\n",
    "            elif line.startswith(\"e\"):\n",
    "                _, temp_1, temp_2 = line.split()\n",
    "                if temp_1 == temp_2:\n",
    "                    continue\n",
    "                # only save one pair (i,j) per edge, i<j\n",
    "                temp_1 = int(temp_1)\n",
    "                temp_2 = int(temp_2)\n",
    "                node_1 = min(temp_1, temp_2) - 1  # node names start with 1\n",
    "                node_2 = max(temp_1, temp_2) - 1\n",
    "                assert node_2 <= vertices_num, \"specified number of nodes is incorrect\"\n",
    "                if node_2 == vertices_num - 1:\n",
    "                    last_vertex_has_edge = True\n",
    "                edges[node_1, node_2] = 1\n",
    "            elif line.startswith(\"c\"):  # ignore comment lines\n",
    "                continue\n",
    "            else:\n",
    "                raise ValueError(\"unknown line in dimacs graph file: \", line)\n",
    "    if not last_vertex_has_edge:\n",
    "        raise ValueError(\n",
    "            \"number of vertices does not match edge set. last vertex has no edges.\"\n",
    "        )\n",
    "    return edges, vertices_num"
   ]
  },
  {
   "cell_type": "markdown",
   "metadata": {},
   "source": [
    "#### 显式采样"
   ]
  },
  {
   "cell_type": "code",
   "execution_count": null,
   "metadata": {},
   "outputs": [],
   "source": [
    "# 显式仅约束函数\n",
    "def old_constraint(x, edges):\n",
    "    \"\"\"returns number of constraint violations\"\"\"\n",
    "    sum_violations = 0\n",
    "    for i, j in combinations(range(len(x)), 2):\n",
    "        edge = edges[i, j]\n",
    "        if (x[i] == 1 and x[j] == 1) and edge == 0:\n",
    "            sum_violations += 1\n",
    "    return sum_violations\n",
    "\n",
    "def cost_function(x):\n",
    "    \"\"\"maximize clique size\"\"\"\n",
    "    return -1 * sum(x)"
   ]
  },
  {
   "cell_type": "code",
   "execution_count": null,
   "metadata": {},
   "outputs": [],
   "source": [
    "# 加载示例最大团实例\n",
    "filename = BATCH_SMALL[0]\n",
    "edges, n = read_graph(filename)"
   ]
  },
  {
   "cell_type": "code",
   "execution_count": null,
   "metadata": {},
   "outputs": [],
   "source": [
    "# 给定图定义的显式约束函数\n",
    "explicit_constraint = lambda x: old_constraint(x, edges)"
   ]
  },
  {
   "cell_type": "code",
   "execution_count": null,
   "metadata": {},
   "outputs": [],
   "source": [
    "# 获取明确的QUBO\n",
    "qubo1, offset = SamplingCompiler.generate_qubo(\n",
    "    cost_function, explicit_constraint, n, penalty_method=\"sum\", use_multiprocessing=False\n",
    ")"
   ]
  },
  {
   "cell_type": "code",
   "execution_count": null,
   "metadata": {},
   "outputs": [],
   "source": [
    "# QUBO矩阵只有数字输入\n",
    "qubo1"
   ]
  },
  {
   "attachments": {},
   "cell_type": "markdown",
   "metadata": {},
   "source": [
    "#### Symbolic Sampling"
   ]
  },
  {
   "cell_type": "code",
   "execution_count": null,
   "metadata": {},
   "outputs": [],
   "source": [
    "#可以处理的约束函数\n",
    "#显式和对称邻接矩阵\n",
    "def new_constraint(x, edges):\n",
    "    \"\"\"returns number of constraint violations\"\"\"\n",
    "    sum_violations = 0\n",
    "    for i, j in combinations(range(len(x)), 2):\n",
    "        edge = edges[i, j]\n",
    "        if (x[i] == 1 and x[j] == 1) and edge != 1:\n",
    "            sum_violations += 1 - edge\n",
    "    return sum_violations"
   ]
  },
  {
   "cell_type": "code",
   "execution_count": null,
   "metadata": {},
   "outputs": [],
   "source": [
    "#请注意，我们可以使用此约束\n",
    "#与之前相同的方式，使用显式\n",
    "#邻接矩阵\n",
    "explicit_constraint = lambda x: new_constraint(x, edges)\n",
    "\n",
    "#获取显式qubo，同上\n",
    "qubo2, offset = SamplingCompiler.generate_qubo(\n",
    "    cost_function, explicit_constraint, n, penalty_method=\"sum\", use_multiprocessing=False\n",
    ")\n",
    "assert (qubo1 == qubo2).all()"
   ]
  },
  {
   "cell_type": "code",
   "execution_count": null,
   "metadata": {},
   "outputs": [],
   "source": [
    "from sympy import symbols\n",
    "from autoqubo.symbolic import symbolic_matrix\n",
    "from autoqubo.symbolic import insert_values\n",
    "\n",
    "\n",
    "#创建符号矩阵\n",
    "#使用示例图确定符号变量的数量\n",
    "symbolic_edges = symbolic_matrix(edges.shape[0], edges.shape[1])\n",
    "# constraint is only dependent on graph size\n",
    "constraint = lambda x: new_constraint(x, symbolic_edges)"
   ]
  },
  {
   "cell_type": "code",
   "execution_count": null,
   "metadata": {},
   "outputs": [],
   "source": [
    "#生成符号qubo\n",
    "symb_qubo, offset = SamplingCompiler.generate_qubo(\n",
    "    cost_function, constraint, n, penalty_method=\"sum\", use_multiprocessing=False\n",
    ")"
   ]
  },
  {
   "cell_type": "code",
   "execution_count": null,
   "metadata": {},
   "outputs": [],
   "source": [
    "#Symbolic Qubo将公式作为条目\n",
    "symb_qubo"
   ]
  },
  {
   "cell_type": "code",
   "execution_count": null,
   "metadata": {},
   "outputs": [],
   "source": [
    "#插入显式值以获得显式qubo\n",
    "explicit_qubo = insert_values(symb_qubo, edges)"
   ]
  },
  {
   "cell_type": "code",
   "execution_count": null,
   "metadata": {},
   "outputs": [],
   "source": [
    "explicit_qubo"
   ]
  },
  {
   "cell_type": "code",
   "execution_count": null,
   "metadata": {},
   "outputs": [],
   "source": [
    "#结果与显式采样的QUBO相同\n",
    "(explicit_qubo == qubo1).all()"
   ]
  },
  {
   "attachments": {},
   "cell_type": "markdown",
   "metadata": {},
   "source": [
    "## 运行时比较"
   ]
  },
  {
   "cell_type": "code",
   "execution_count": null,
   "metadata": {},
   "outputs": [],
   "source": [
    "from timeit import default_timer as timer\n",
    "\n",
    "DATASET = BATCH_SMALL"
   ]
  },
  {
   "cell_type": "code",
   "execution_count": null,
   "metadata": {},
   "outputs": [],
   "source": [
    "# 符号抽样\n",
    "start_symb = timer()\n",
    "# 生成符号qub\n",
    "symb_qubo, offset = SamplingCompiler.generate_qubo(\n",
    "    cost_function, constraint, n, penalty_method=\"sum\", use_multiprocessing=False\n",
    ")\n",
    "# 插入显式值以获取显式qubo\n",
    "for filename in DATASET:\n",
    "    edges, n = read_graph(filename)\n",
    "    explicit_qubo = insert_values(symb_qubo, edges)\n",
    "stop_symb = timer()"
   ]
  },
  {
   "cell_type": "code",
   "execution_count": null,
   "metadata": {},
   "outputs": [],
   "source": [
    "# 显式采样\n",
    "start_exp = timer()\n",
    "# 每个显式QUBO的示例\n",
    "for filename in DATASET:\n",
    "    edges, n = read_graph(filename)\n",
    "    # 由给定图形定义的显式约束函数\n",
    "    explicit_constraint = lambda x: old_constraint(x, edges)\n",
    "    explicit_qubo, offset = SamplingCompiler.generate_qubo(\n",
    "    cost_function, explicit_constraint, n, penalty_method=\"sum\", use_multiprocessing=False\n",
    ")\n",
    "stop_exp = timer()"
   ]
  },
  {
   "cell_type": "code",
   "execution_count": null,
   "metadata": {},
   "outputs": [],
   "source": [
    "symb_time = np.round(stop_symb - start_symb, 2)\n",
    "exp_time = np.round(stop_exp - start_exp, 2)\n",
    "print(f\"Symbolic sampling took {symb_time}s in total.\")\n",
    "print(f\"Explicit sampling took {exp_time}s in total.\")\n",
    "print(f\"Symbolic sampling was {np.round(exp_time/symb_time, 2)}x faster for {len(DATASET)} instances.\")\n"
   ]
  },
  {
   "cell_type": "code",
   "execution_count": null,
   "metadata": {},
   "outputs": [],
   "source": []
  }
 ],
 "metadata": {
  "kernelspec": {
   "display_name": "autoqubo",
   "language": "python",
   "name": "autoqubo"
  },
  "language_info": {
   "codemirror_mode": {
    "name": "ipython",
    "version": 3
   },
   "file_extension": ".py",
   "mimetype": "text/x-python",
   "name": "python",
   "nbconvert_exporter": "python",
   "pygments_lexer": "ipython3",
   "version": "3.7.16"
  },
  "orig_nbformat": 4,
  "vscode": {
   "interpreter": {
    "hash": "5c5cbeb979e7f019a01b7133f5a9a19a8e92141f782ccb537b535a928e3b53eb"
   }
  }
 },
 "nbformat": 4,
 "nbformat_minor": 2
}
